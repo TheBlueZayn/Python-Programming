{
 "cells": [
  {
   "cell_type": "code",
   "execution_count": 3,
   "metadata": {},
   "outputs": [
    {
     "name": "stdout",
     "output_type": "stream",
     "text": [
      "Welcome to BlueZayn's guessing game! \n",
      "You get to guess a number between 0 and 20 \n",
      "I tell you if it is too high or too low \n",
      "Let's have fun!\n",
      "Guess has to a number and not a character!\n"
     ]
    }
   ],
   "source": [
    "import random\n",
    "\n",
    "print(\"Welcome to BlueZayn's guessing game! \\nYou get to guess a number between 0 and 20 \\nI tell you if it is too high or too low \\nLet's have fun!\")\n",
    "answer = random.randint(0, 21)\n",
    "\n",
    "guess_int = -1\n",
    "while (answer != guess_int):\n",
    "    try:\n",
    "        guess = input(\"Kindly enter your guess: \")\n",
    "        guess_int = int(guess)\n",
    "\n",
    "        if (guess_int < 0 or guess_int > 20):\n",
    "            print(\"Sorry, guess has to be between 0 and 20!\")\n",
    "        elif (guess_int > answer):\n",
    "            print(\"Yikes!  Your guess was too high, try again!\")\n",
    "        elif (guess_int < answer):\n",
    "            print(\"Yikes!  Your guess was too low, try again!\")\n",
    "        else:\n",
    "            print(\"Amazing, you won!\")    \n",
    "\n",
    "    except:\n",
    "        print(\"Guess has to a number and not a character!\") \n",
    "           "
   ]
  },
  {
   "cell_type": "code",
   "execution_count": null,
   "metadata": {},
   "outputs": [],
   "source": []
  }
 ],
 "metadata": {
  "kernelspec": {
   "display_name": "Python 3.10.5 64-bit",
   "language": "python",
   "name": "python3"
  },
  "language_info": {
   "codemirror_mode": {
    "name": "ipython",
    "version": 3
   },
   "file_extension": ".py",
   "mimetype": "text/x-python",
   "name": "python",
   "nbconvert_exporter": "python",
   "pygments_lexer": "ipython3",
   "version": "3.10.5"
  },
  "orig_nbformat": 4,
  "vscode": {
   "interpreter": {
    "hash": "26de051ba29f2982a8de78e945f0abaf191376122a1563185a90213a26c5da77"
   }
  }
 },
 "nbformat": 4,
 "nbformat_minor": 2
}
