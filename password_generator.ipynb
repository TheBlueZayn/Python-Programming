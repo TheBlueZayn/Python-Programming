{
 "cells": [
  {
   "cell_type": "code",
   "execution_count": 21,
   "metadata": {},
   "outputs": [
    {
     "name": "stdout",
     "output_type": "stream",
     "text": [
      "Welcome to Zaynab's secure password generator!\n",
      "Every password must be a minimum of 6 characters of numbers, letters and symbols.\n",
      "You get to choose the number of letters and numbers you want in the password while we ad the symbols for you!\n",
      "*9u:GO9\n"
     ]
    }
   ],
   "source": [
    "import random\n",
    "import string\n",
    "\n",
    "print(\"Welcome to Zaynab's secure password generator!\")\n",
    "print(\"Every password must be a minimum of 6 characters of numbers, letters and symbols.\")\n",
    "print(\"You get to choose the number of letters and numbers you want in the password while we add the symbols for you!\")\n",
    "\n",
    "pass_char = input('Input password lenght: ')\n",
    "letter_len = input(\"Input how many letters you want: \")\n",
    "num_len = input(\"Input how many numbers you want: \" )\n",
    "\n",
    "pass_char_int = 6\n",
    "\n",
    "def GetRandomPassword(letter_len, num_len, pass_char_int):\n",
    "    punct_len = pass_char_int - (letter_len + num_len)\n",
    "    if punct_len <= 0:\n",
    "        num_len -= 1\n",
    "        punct_len = 1\n",
    "    # Generate random specified number of letters, digits and symbols\n",
    "    password = \"\".join((random.choice(string.ascii_letters) for i in range(letter_len)))\n",
    "    password += \"\".join((random.choice(string.digits) for i in range(num_len)))\n",
    "    password += \"\".join((random.choice(string.punctuation) for i in range(punct_len)))\n",
    "    \n",
    "    # Turn into a list\n",
    "    password_list = list(password)\n",
    "    # Shuffle all characters\n",
    "    random.shuffle(password_list)\n",
    "\n",
    "    password = ''.join(password_list)\n",
    "    return password\n",
    "\n",
    "try:\n",
    "    char_lenght = int(pass_char)\n",
    "    letter_len = int(letter_len)\n",
    "    num_len = int(num_len)\n",
    "\n",
    "    if(char_lenght < 6):\n",
    "       print(\"Requires a minimum of 6 char, default lenght of 6 char will be applied!\")\n",
    "    else:\n",
    "        pass_char_int = char_lenght\n",
    "\n",
    "    if letter_len > char_lenght:\n",
    "        letter_len = (char_lenght - 2)\n",
    "        num_len = 1\n",
    "\n",
    "    if num_len > char_lenght:\n",
    "        num_len = (char_lenght - 2)\n",
    "        letter_len = 1 \n",
    "   \n",
    "    password = GetRandomPassword(letter_len=letter_len, num_len=num_len, pass_char_int=pass_char_int)\n",
    "\n",
    "    print(password)\n",
    "    \n",
    "except:\n",
    "    print(\"Requires a number, default values will be applied!\")\n",
    "\n",
    "    \n",
    "\n",
    "\n",
    "\n",
    "\n"
   ]
  },
  {
   "cell_type": "code",
   "execution_count": null,
   "metadata": {},
   "outputs": [],
   "source": []
  }
 ],
 "metadata": {
  "kernelspec": {
   "display_name": "Python 3.10.5 64-bit",
   "language": "python",
   "name": "python3"
  },
  "language_info": {
   "codemirror_mode": {
    "name": "ipython",
    "version": 3
   },
   "file_extension": ".py",
   "mimetype": "text/x-python",
   "name": "python",
   "nbconvert_exporter": "python",
   "pygments_lexer": "ipython3",
   "version": "3.10.5"
  },
  "orig_nbformat": 4,
  "vscode": {
   "interpreter": {
    "hash": "26de051ba29f2982a8de78e945f0abaf191376122a1563185a90213a26c5da77"
   }
  }
 },
 "nbformat": 4,
 "nbformat_minor": 2
}
